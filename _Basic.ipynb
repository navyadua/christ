{
  "nbformat": 4,
  "nbformat_minor": 0,
  "metadata": {
    "colab": {
      "name": "_Basic.ipynb",
      "provenance": [],
      "collapsed_sections": [],
      "authorship_tag": "ABX9TyN+Dob5AmGUGgyKC1iPDF1q",
      "include_colab_link": true
    },
    "kernelspec": {
      "name": "python3",
      "display_name": "Python 3"
    }
  },
  "cells": [
    {
      "cell_type": "markdown",
      "metadata": {
        "id": "view-in-github",
        "colab_type": "text"
      },
      "source": [
        "<a href=\"https://colab.research.google.com/github/navyadua/data/blob/main/_Basic.ipynb\" target=\"_parent\"><img src=\"https://colab.research.google.com/assets/colab-badge.svg\" alt=\"Open In Colab\"/></a>"
      ]
    },
    {
      "cell_type": "markdown",
      "metadata": {
        "id": "SnOfDPlV2_bU"
      },
      "source": [
        "### Importing Libraries"
      ]
    },
    {
      "cell_type": "code",
      "metadata": {
        "id": "seMVqQvBmxWv"
      },
      "source": [
        "import numpy as np\r\n",
        "import pandas as pd"
      ],
      "execution_count": null,
      "outputs": []
    },
    {
      "cell_type": "markdown",
      "metadata": {
        "id": "lEfrqwaJ3GWk"
      },
      "source": [
        "### Reading Hotel Booking Demand DataSet"
      ]
    },
    {
      "cell_type": "code",
      "metadata": {
        "id": "4EnahkUSnN9k"
      },
      "source": [
        "df = pd.read_csv('https://raw.githubusercontent.com/navyadua/data/main/hotel_bookings_2.csv')\r\n",
        "df"
      ],
      "execution_count": null,
      "outputs": []
    }
  ]
}